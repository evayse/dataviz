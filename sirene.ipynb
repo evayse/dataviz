{
 "cells": [
  {
   "cell_type": "markdown",
   "metadata": {},
   "source": [
    "# Statistiques depuis la base Sirene"
   ]
  },
  {
   "cell_type": "code",
   "execution_count": 2,
   "metadata": {
    "collapsed": false,
    "scrolled": true
   },
   "outputs": [],
   "source": [
    "import pandas as pd \n",
    "\n",
    "sirene = pd.read_csv(\"/home/eva/ENSAE/siren.csv\", sep = ';', encoding = \"ISO-8859-1\", dtype=object)"
   ]
  },
  {
   "cell_type": "code",
   "execution_count": 3,
   "metadata": {
    "collapsed": false
   },
   "outputs": [
    {
     "data": {
      "text/plain": [
       "array(['75008', '75017', '75014', '75007', '75009', '75012', '75010',\n",
       "       '75013', '75006', '75001', '75011', '75002', '75004', '75019',\n",
       "       '75018', '75016', '75003', '75116', '75015', '75020', '75005'], dtype=object)"
      ]
     },
     "execution_count": 3,
     "metadata": {},
     "output_type": "execute_result"
    }
   ],
   "source": [
    "siren = sirene[['apet700', 'libapet', 'codpos', 'l4_normalisee']]\n",
    "siren.codpos.unique()"
   ]
  },
  {
   "cell_type": "code",
   "execution_count": 4,
   "metadata": {
    "collapsed": false
   },
   "outputs": [
    {
     "data": {
      "text/plain": [
       "array(['75008', '75017', '75014', '75007', '75009', '75012', '75010',\n",
       "       '75013', '75006', '75001', '75011', '75002', '75004', '75019',\n",
       "       '75018', '75016', '75003', '75015', '75020', '75005'], dtype=object)"
      ]
     },
     "execution_count": 4,
     "metadata": {},
     "output_type": "execute_result"
    }
   ],
   "source": [
    "siren = siren.replace('75116', '75016')\n",
    "siren.codpos.unique()"
   ]
  },
  {
   "cell_type": "code",
   "execution_count": 5,
   "metadata": {
    "collapsed": false
   },
   "outputs": [],
   "source": [
    "# Commerce de détail non spécialisé (hyper, super, etc.)\n",
    "com_detail_non_spe = siren[siren['apet700'].apply(lambda x : x[0:3])== \"471\"]\n",
    "com_detail_non_spe.name = \"Commerce de détail non spécialisé (hyper, super, etc.)\"\n",
    "\n",
    "# Commerce de détail alimentaire en magasin spécialisé (poissoneries, boucheries, etc.)\n",
    "com_al_spe = siren[siren['apet700'].apply(lambda x : x[0:3] == \"472\")]\n",
    "com_al_spe.name = \"Commerce de détail alimentaire en magasin spécialisé\"\n",
    "\n",
    "    # Parmi eux, on a en particulier:\n",
    "    # Magasins de fruits et légumes : \n",
    "legume = siren[siren['apet700'].apply(lambda x : x[0:4] == \"4721\")]\n",
    "legume.name = \"Magasins de fruits et légumes\"    \n",
    "\n",
    "    # Boucheries-charcuteries :\n",
    "boucherie = siren[siren['apet700'].apply(lambda x : x[0:4] == \"4722\")]\n",
    "boucherie.name = \"Boucheries-charcuteries\"\n",
    "\n",
    "    # Poissonneries : \n",
    "poissonerie =   siren[siren['apet700'].apply(lambda x : x[0:4] == \"4723\")]\n",
    "poissonerie.name = \"Poissonneries\"\n",
    "\n",
    "    # Boulangeries, patisseries, confiseries : \n",
    "boulangerie = siren[siren['apet700'].apply(lambda x : x[0:4] == \"4724\")]\n",
    "boulangerie.name = 'Boulangeries, patisseries, confiseries'\n",
    "\n",
    "    # Commerce de détail de boissons\n",
    "boisson = siren[siren['apet700'].apply(lambda x : x[0:4] == \"4725\")]\n",
    "boisson.name = \"Commerce de boissons\"\n",
    "\n",
    "    # Tabacs\n",
    "tabac = siren[siren['apet700'].apply(lambda x : x[0:4] == \"4726\")]\n",
    "tabac.name = \"Tabacs\"\n"
   ]
  },
  {
   "cell_type": "code",
   "execution_count": 6,
   "metadata": {
    "collapsed": true
   },
   "outputs": [],
   "source": [
    "# Commerce de culture (magasins de disques, etc.)\n",
    "com_culture = siren[siren['apet700'].apply(lambda x : x[0:3] == \"476\")]\n",
    "com_culture.name = \"Commerce de culture\"\n",
    "\n",
    "# Mode (Commerces d'habillement, chaussures, maroquinerie)\n",
    "mode = siren[siren['apet700'].apply(lambda x : x[0:4] == \"4771\" or x[0:4] == \"4772\")]\n",
    "mode.name = 'Mode'\n",
    "\n",
    "# Restaurants\n",
    "resto = siren[siren['apet700'].apply(lambda x : x[0:3] == \"561\")]\n",
    "resto.name = 'Restaurants'\n",
    "\n",
    "# Traiteurs \n",
    "traiteur = siren[siren['apet700'].apply(lambda x : x[0:3] == \"562\")] \n",
    "traiteur.name = \"Traiteurs\"\n",
    "\n",
    "# Bars \n",
    "bar = siren[siren['apet700'].apply(lambda x : x[0:3] == \"563\")]\n",
    "bar.name = 'Bars'"
   ]
  },
  {
   "cell_type": "code",
   "execution_count": 7,
   "metadata": {
    "collapsed": false
   },
   "outputs": [],
   "source": [
    "# Etablissements pré-primaires (maternelle?)\n",
    "pre_prim = siren[siren['apet700'].apply(lambda x : x[0:3] == \"851\")] \n",
    "pre_prim.name = \"Etablissements pré-primaires\"\n",
    "\n",
    "#Enseignement primaire\n",
    "ecole = siren[siren['apet700'].apply(lambda x : x[0:3] == \"852\")]\n",
    "ecole.name = \"Enseignement primaire\"\n",
    "\n",
    "# Enseignement secondaire \n",
    "secondaire = siren[siren['apet700'].apply(lambda x : x[0:3] == \"853\")]\n",
    "secondaire.name = \"Enseignement secondaire\"\n",
    "\n",
    "\n",
    "# Enseignement supérieur et post-secondaire\n",
    "sup = siren[siren['apet700'].apply(lambda x : x[0:3] == \"854\")]\n",
    "sup.name = \"Enseignement supérieur et post-secondaire\""
   ]
  },
  {
   "cell_type": "code",
   "execution_count": 8,
   "metadata": {
    "collapsed": true
   },
   "outputs": [],
   "source": [
    "# Activités de santé \n",
    "sante = siren[siren['apet700'].apply(lambda x : x[0:2] == \"86\")]\n",
    "sante.name = \"Activités de santé\""
   ]
  },
  {
   "cell_type": "code",
   "execution_count": 9,
   "metadata": {
    "collapsed": true
   },
   "outputs": [],
   "source": [
    "# Bibliothèques, musées, act culturelles\n",
    "cult = siren[siren['apet700'].apply(lambda x : x[0:3] == \"910\")]\n",
    "cult.name = \"Bibliothèques, musées, act culturelles\"\n",
    "\n",
    "    # Parmi eux, nous avons : \n",
    "bibli = siren[siren['apet700'].apply(lambda x : x[0:4] == \"9101\")] \n",
    "bibli.name = \"Bibliothèques\"\n",
    "\n",
    "musee = siren[siren['apet700'].apply(lambda x : x[0:4] == \"9102\")]\n",
    "musee.name = \"Musées\"\n",
    "\n",
    "site = siren[siren['apet700'].apply(lambda x : x[0:4] == \"9103\")]\n",
    "site.name = \"Gestion sites monuments historiques & attractions tourist. simil.\"\n",
    "\n",
    "jardin = siren[siren['apet700'].apply(lambda x : x[0:4] == \"9104\")]\n",
    "jardin.name = \"Gestion des jardins botaniques et zoologiques et des réserves naturelles\""
   ]
  },
  {
   "cell_type": "code",
   "execution_count": 10,
   "metadata": {
    "collapsed": true
   },
   "outputs": [],
   "source": [
    "# Arts, spectacles\n",
    "spectacle = siren[siren['apet700'].apply(lambda x : x[0:2] == \"90\")]\n",
    "spectacle.name = \"Arts, spectacles\"\n",
    "\n",
    "# Activités sportives (gestion d'installations sportives, salles de sport, etc.)\n",
    "sport = siren[siren['apet700'].apply(lambda x : x[0:3] == \"931\")]\n",
    "sport.name = \"Bibliothèques, musées, act culturelles\"\n",
    "\n",
    "\n",
    "# Activités récréatives et de loisirs (parcs d'attraction)\n",
    "recre = siren[siren['apet700'].apply(lambda x : x[0:3] == \"932\")]\n",
    "recre.name = \"Activités récréatives et de loisirs (parcs d'attraction)\""
   ]
  },
  {
   "cell_type": "code",
   "execution_count": 11,
   "metadata": {
    "collapsed": true
   },
   "outputs": [],
   "source": [
    "# Blanchisseries\n",
    "blanchisserie = siren[siren['apet700'].apply(lambda x : x[0:4] == \"9601\")]\n",
    "blanchisserie.name = \"Blanchisseries\"\n",
    "\n",
    "# Coiffures\n",
    "coiffeur = siren[siren['apet700'].apply(lambda x : x[0:4] == \"9602\")]\n",
    "coiffeur.name = \"Coiffeurs\""
   ]
  },
  {
   "cell_type": "code",
   "execution_count": 12,
   "metadata": {
    "collapsed": true
   },
   "outputs": [],
   "source": [
    "# Services funéraires\n",
    "funeraire = siren[siren['apet700'].apply(lambda x : x[0:4] == \"9603\")]\n",
    "funeraire.name = \"Services funéraires\"\n",
    "\n",
    "# Services d'entretien corporel (sauna, hammam, instituts de massage, etc.)\n",
    "corporel = siren[siren['apet700'].apply(lambda x : x[0:4] == \"9604\")]\n",
    "corporel.name = \"Services d'entretien corporel\""
   ]
  },
  {
   "cell_type": "code",
   "execution_count": null,
   "metadata": {
    "collapsed": false
   },
   "outputs": [],
   "source": []
  },
  {
   "cell_type": "code",
   "execution_count": 13,
   "metadata": {
    "collapsed": false
   },
   "outputs": [],
   "source": [
    "activites = [com_detail_non_spe, boulangerie, boucherie, tabac, poissonerie, boisson, legume, com_culture, mode, resto, traiteur, bar, pre_prim, ecole, secondaire, sup,\\\n",
    "      sante, spectacle, bibli, site, musee, jardin, sport, recre, blanchisserie, coiffeur, funeraire, corporel]"
   ]
  },
  {
   "cell_type": "code",
   "execution_count": 14,
   "metadata": {
    "collapsed": false
   },
   "outputs": [
    {
     "data": {
      "text/plain": [
       "array(['75008', '75017', '75014', '75007', '75009', '75012', '75010',\n",
       "       '75013', '75006', '75001', '75011', '75002', '75004', '75019',\n",
       "       '75018', '75016', '75003', '75015', '75020', '75005'], dtype=object)"
      ]
     },
     "execution_count": 14,
     "metadata": {},
     "output_type": "execute_result"
    }
   ],
   "source": [
    "siren.codpos.unique()"
   ]
  },
  {
   "cell_type": "code",
   "execution_count": null,
   "metadata": {
    "collapsed": false
   },
   "outputs": [],
   "source": []
  },
  {
   "cell_type": "code",
   "execution_count": 15,
   "metadata": {
    "collapsed": false
   },
   "outputs": [],
   "source": [
    "# Lister, par activité, les fréquences par arrondissement (de la plus forte à la moins forte)\n",
    "from collections import Counter\n",
    "import operator\n",
    "def frequences(act):\n",
    "    freq_act ={}\n",
    "    for arr in act.codpos.unique() : \n",
    "        freq = dict(Counter(act.codpos))[arr]\n",
    "        freq = freq/len(act)\n",
    "        freq_act.update({arr : freq})\n",
    "    return sorted(freq_act.items(), key = operator.itemgetter(1), reverse = True)"
   ]
  },
  {
   "cell_type": "code",
   "execution_count": 16,
   "metadata": {
    "collapsed": false
   },
   "outputs": [
    {
     "data": {
      "text/plain": [
       "[('75015', 0.09420603958965468),\n",
       " ('75017', 0.08712613784135241),\n",
       " ('75018', 0.07816789481288831)]"
      ]
     },
     "execution_count": 16,
     "metadata": {},
     "output_type": "execute_result"
    }
   ],
   "source": [
    "# Exemple : pour trouver l'arrondissement qui contient le plus de salons de coiffure : \n",
    "frequences(coiffeur)[0:3]"
   ]
  },
  {
   "cell_type": "code",
   "execution_count": 17,
   "metadata": {
    "collapsed": false
   },
   "outputs": [
    {
     "name": "stdout",
     "output_type": "stream",
     "text": [
      "Commerce de détail non spécialisé (hyper, super, etc.) : ('75018', 0.10996870809119356)\n",
      "Boulangeries, patisseries, confiseries : ('75017', 0.07)\n",
      "Boucheries-charcuteries : ('75018', 0.12439613526570048)\n",
      "Tabacs : ('75015', 0.07834101382488479)\n",
      "Poissonneries : ('75018', 0.1320754716981132)\n",
      "Commerce de boissons : ('75017', 0.08982035928143713)\n",
      "Magasins de fruits et légumes : ('75018', 0.11764705882352941)\n",
      "Commerce de culture : ('75015', 0.08053265694356374)\n",
      "Mode : ('75008', 0.09018153425727113)\n",
      "Restaurants : ('75011', 0.07990477901545096)\n",
      "Traiteurs : ('75015', 0.08933601609657947)\n",
      "Bars : ('75011', 0.11517548195748888)\n",
      "Etablissements pré-primaires : ('75019', 0.11461318051575932)\n",
      "Enseignement primaire : ('75020', 0.10094637223974763)\n",
      "Enseignement secondaire : ('75018', 0.08820286659316427)\n",
      "Enseignement supérieur et post-secondaire : ('75005', 0.10204081632653061)\n",
      "Activités de santé : ('75015', 0.09901818767101239)\n",
      "Arts, spectacles : ('75018', 0.1175708378589531)\n",
      "Bibliothèques : ('75013', 0.08)\n",
      "Gestion sites monuments historiques & attractions tourist. simil. : ('75016', 0.09387755102040816)\n",
      "Musées : ('75018', 0.09523809523809523)\n",
      "Gestion des jardins botaniques et zoologiques et des réserves naturelles : ('75016', 0.25)\n",
      "Bibliothèques, musées, act culturelles : ('75015', 0.0913516609392898)\n",
      "Activités récréatives et de loisirs (parcs d'attraction) : ('75018', 0.09102605339337408)\n",
      "Blanchisseries : ('75015', 0.11358734723220705)\n",
      "Coiffeurs : ('75015', 0.09420603958965468)\n",
      "Services funéraires : ('75014', 0.1210762331838565)\n",
      "Services d'entretien corporel : ('75017', 0.09187279151943463)\n"
     ]
    }
   ],
   "source": [
    "# TOP 1 : \n",
    "for a in activites : \n",
    "    print(a.name, \":\", frequences(a)[0][0])"
   ]
  },
  {
   "cell_type": "code",
   "execution_count": 18,
   "metadata": {
    "collapsed": true
   },
   "outputs": [],
   "source": [
    "# TOP1 : pas les 1er, 2e, 3e, 4e, 6e, 7e, 9e, 10e\n",
    "# TOP2 : +6e et 7e\n",
    "# TOP3 : +9e et 10e\n",
    "# => pb pour les arrondissements 1, 2, 3 et 4. "
   ]
  },
  {
   "cell_type": "code",
   "execution_count": null,
   "metadata": {
    "collapsed": true
   },
   "outputs": [],
   "source": []
  },
  {
   "cell_type": "code",
   "execution_count": 19,
   "metadata": {
    "collapsed": true
   },
   "outputs": [],
   "source": [
    "superficies = {'75001': 1.83, '75002': 0.99, '75003': 1.17, '75004': 1.6, '75005': 2.54, '75006': 2.15, '75007': 4.09,\\\n",
    "              '75008': 3.88, '75009':2.18 , '75010': 2.89, '75011': 3.67, '75012': 6.38, '75013': 7.15, '75014': 5.62, \\\n",
    "                '75015': 8.5, '75016': 7.85, '75017': 5.67, '75018': 6.01, '75019': 6.79, '75020': 5.98}"
   ]
  },
  {
   "cell_type": "code",
   "execution_count": 20,
   "metadata": {
    "collapsed": true
   },
   "outputs": [],
   "source": [
    "def activites_km2(act):\n",
    "    activites_km2={}\n",
    "    for arr in act.codpos.unique():\n",
    "        act_km2 = dict(Counter(act.codpos))[arr]\n",
    "        act_km2 = act_km2 / superficies[arr]\n",
    "        activites_km2.update({arr : act_km2})\n",
    "    return sorted(activites_km2.items(), key = operator.itemgetter(1), reverse = True)"
   ]
  },
  {
   "cell_type": "code",
   "execution_count": 30,
   "metadata": {
    "collapsed": false
   },
   "outputs": [
    {
     "name": "stdout",
     "output_type": "stream",
     "text": [
      "Commerce de détail non spécialisé (hyper, super, etc.) : 75010 , 75009 75011\n",
      "Boulangeries, patisseries, confiseries : 75002 , 75004 75006\n",
      "Boucheries-charcuteries : 75010 , 75018 75011\n",
      "Tabacs : 75002 , 75004 75005\n",
      "Poissonneries : 75010 , 75018 75006\n",
      "Commerce de boissons : 75002 , 75003 75009\n",
      "Magasins de fruits et légumes : 75009 , 75010 75018\n",
      "Commerce de culture : 75009 , 75005 75002\n",
      "Mode : 75002 , 75003 75001\n",
      "Restaurants : 75002 , 75009 75010\n",
      "Traiteurs : 75002 , 75009 75003\n",
      "Bars : 75002 , 75009 75011\n",
      "Etablissements pré-primaires : 75011 , 75020 75019\n",
      "Enseignement primaire : 75020 , 75003 75005\n",
      "Enseignement secondaire : 75009 , 75003 75006\n",
      "Enseignement supérieur et post-secondaire : 75005 , 75006 75003\n",
      "Activités de santé : 75011 , 75009 75003\n",
      "Arts, spectacles : 75011 , 75003 75010\n",
      "Bibliothèques : 75002 , 75004 75006\n",
      "Gestion sites monuments historiques & attractions tourist. simil. : 75002 , 75001 75004\n",
      "Musées : 75003 , 75004 75006\n",
      "Gestion des jardins botaniques et zoologiques et des réserves naturelles : 75009 , 75005 75012\n",
      "Bibliothèques, musées, act culturelles : 75002 , 75009 75008\n",
      "Activités récréatives et de loisirs (parcs d'attraction) : 75002 , 75003 75011\n",
      "Blanchisseries : 75009 , 75011 75010\n",
      "Coiffeurs : 75010 , 75002 75009\n",
      "Services funéraires : 75014 , 75011 75018\n",
      "Services d'entretien corporel : 75009 , 75002 75003\n"
     ]
    }
   ],
   "source": [
    "# TOP 3 : \n",
    "for a in activites : \n",
    "    print(a.name, \":\", activites_km2(a)[0][0],',', activites_km2(a)[1][0],  activites_km2(a)[2][0])"
   ]
  },
  {
   "cell_type": "code",
   "execution_count": null,
   "metadata": {
    "collapsed": true
   },
   "outputs": [],
   "source": [
    "# Pb pour les arrondissements:  7, 13, 15, 16, 17"
   ]
  },
  {
   "cell_type": "code",
   "execution_count": null,
   "metadata": {
    "collapsed": true
   },
   "outputs": [],
   "source": []
  }
 ],
 "metadata": {
  "anaconda-cloud": {},
  "kernelspec": {
   "display_name": "Python [conda root]",
   "language": "python",
   "name": "conda-root-py"
  },
  "language_info": {
   "codemirror_mode": {
    "name": "ipython",
    "version": 3
   },
   "file_extension": ".py",
   "mimetype": "text/x-python",
   "name": "python",
   "nbconvert_exporter": "python",
   "pygments_lexer": "ipython3",
   "version": "3.5.2"
  }
 },
 "nbformat": 4,
 "nbformat_minor": 2
}
