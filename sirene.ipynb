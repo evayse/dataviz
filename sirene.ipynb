{
 "cells": [
  {
   "cell_type": "markdown",
   "metadata": {},
   "source": [
    "# Statistiques depuis la base Sirene"
   ]
  },
  {
   "cell_type": "code",
   "execution_count": 1,
   "metadata": {
    "collapsed": false
   },
   "outputs": [
    {
     "data": {
      "text/html": [
       "<div>\n",
       "<table border=\"1\" class=\"dataframe\">\n",
       "  <thead>\n",
       "    <tr style=\"text-align: right;\">\n",
       "      <th></th>\n",
       "      <th>siren</th>\n",
       "      <th>nic</th>\n",
       "      <th>l1_normalisee</th>\n",
       "      <th>l2_normalisee</th>\n",
       "      <th>l3_normalisee</th>\n",
       "      <th>l4_normalisee</th>\n",
       "      <th>l5_normalisee</th>\n",
       "      <th>l6_normalisee</th>\n",
       "      <th>l7_normalisee</th>\n",
       "      <th>l1_declaree</th>\n",
       "      <th>...</th>\n",
       "      <th>esaapen</th>\n",
       "      <th>esasec1n</th>\n",
       "      <th>esasec2n</th>\n",
       "      <th>esasec3n</th>\n",
       "      <th>esasec4n</th>\n",
       "      <th>vmaj</th>\n",
       "      <th>vmaj1</th>\n",
       "      <th>vmaj2</th>\n",
       "      <th>vmaj3</th>\n",
       "      <th>datemaj</th>\n",
       "    </tr>\n",
       "  </thead>\n",
       "  <tbody>\n",
       "    <tr>\n",
       "      <th>0</th>\n",
       "      <td>005580501</td>\n",
       "      <td>00046</td>\n",
       "      <td>SOC GLACIERES FRIGO SAINT NAZAIRE</td>\n",
       "      <td>STEF LOGISTIQUE</td>\n",
       "      <td>NaN</td>\n",
       "      <td>93 BOULEVARD MALESHERBES</td>\n",
       "      <td>NaN</td>\n",
       "      <td>75008 PARIS</td>\n",
       "      <td>FRANCE</td>\n",
       "      <td>SOC GLACIERES FRIGO SAINT-NAZAIRE</td>\n",
       "      <td>...</td>\n",
       "      <td>5210A</td>\n",
       "      <td>5210A</td>\n",
       "      <td>NaN</td>\n",
       "      <td>NaN</td>\n",
       "      <td>NaN</td>\n",
       "      <td>NaN</td>\n",
       "      <td>NaN</td>\n",
       "      <td>NaN</td>\n",
       "      <td>NaN</td>\n",
       "      <td>2015-08-02T00:00:00</td>\n",
       "    </tr>\n",
       "    <tr>\n",
       "      <th>1</th>\n",
       "      <td>005780580</td>\n",
       "      <td>00030</td>\n",
       "      <td>IMMOBILIERE LOUIS THIRIET</td>\n",
       "      <td>NaN</td>\n",
       "      <td>NaN</td>\n",
       "      <td>52 RUE DE LA BIENFAISANCE</td>\n",
       "      <td>NaN</td>\n",
       "      <td>75008 PARIS</td>\n",
       "      <td>FRANCE</td>\n",
       "      <td>IMMOBILIERE LOUIS THIRIET</td>\n",
       "      <td>...</td>\n",
       "      <td>NaN</td>\n",
       "      <td>NaN</td>\n",
       "      <td>NaN</td>\n",
       "      <td>NaN</td>\n",
       "      <td>NaN</td>\n",
       "      <td>NaN</td>\n",
       "      <td>NaN</td>\n",
       "      <td>NaN</td>\n",
       "      <td>NaN</td>\n",
       "      <td>2002-11-13T00:00:00</td>\n",
       "    </tr>\n",
       "    <tr>\n",
       "      <th>2</th>\n",
       "      <td>006080014</td>\n",
       "      <td>00068</td>\n",
       "      <td>OUEST EUROPEENNE PARTICIP PLAC PROMO</td>\n",
       "      <td>NaN</td>\n",
       "      <td>NaN</td>\n",
       "      <td>12 B RUE THEODULE RIBOT</td>\n",
       "      <td>NaN</td>\n",
       "      <td>75017 PARIS</td>\n",
       "      <td>FRANCE</td>\n",
       "      <td>OUEST EUROPEENNE PARTICIP PLAC PROMO</td>\n",
       "      <td>...</td>\n",
       "      <td>NaN</td>\n",
       "      <td>NaN</td>\n",
       "      <td>NaN</td>\n",
       "      <td>NaN</td>\n",
       "      <td>NaN</td>\n",
       "      <td>NaN</td>\n",
       "      <td>NaN</td>\n",
       "      <td>NaN</td>\n",
       "      <td>NaN</td>\n",
       "      <td>2015-07-27T09:43:55</td>\n",
       "    </tr>\n",
       "    <tr>\n",
       "      <th>3</th>\n",
       "      <td>006080170</td>\n",
       "      <td>00043</td>\n",
       "      <td>COOP BREIZH</td>\n",
       "      <td>NaN</td>\n",
       "      <td>NaN</td>\n",
       "      <td>10 RUE DU MAINE</td>\n",
       "      <td>NaN</td>\n",
       "      <td>75014 PARIS</td>\n",
       "      <td>FRANCE</td>\n",
       "      <td>COOP BREIZH</td>\n",
       "      <td>...</td>\n",
       "      <td>NaN</td>\n",
       "      <td>NaN</td>\n",
       "      <td>NaN</td>\n",
       "      <td>NaN</td>\n",
       "      <td>NaN</td>\n",
       "      <td>NaN</td>\n",
       "      <td>NaN</td>\n",
       "      <td>NaN</td>\n",
       "      <td>NaN</td>\n",
       "      <td>1960-01-01T00:00:00</td>\n",
       "    </tr>\n",
       "    <tr>\n",
       "      <th>4</th>\n",
       "      <td>015450711</td>\n",
       "      <td>00120</td>\n",
       "      <td>CIT AEROSPACE HOLDINGS FRANCE SAS</td>\n",
       "      <td>NaN</td>\n",
       "      <td>NaN</td>\n",
       "      <td>98 B BOULEVARD DE LA TOUR MAUBOURG</td>\n",
       "      <td>NaN</td>\n",
       "      <td>75007 PARIS</td>\n",
       "      <td>FRANCE</td>\n",
       "      <td>CIT AEROSPACE HOLDINGS (FRANCE) SAS</td>\n",
       "      <td>...</td>\n",
       "      <td>NaN</td>\n",
       "      <td>NaN</td>\n",
       "      <td>NaN</td>\n",
       "      <td>NaN</td>\n",
       "      <td>NaN</td>\n",
       "      <td>NaN</td>\n",
       "      <td>NaN</td>\n",
       "      <td>NaN</td>\n",
       "      <td>NaN</td>\n",
       "      <td>2016-06-23T00:00:00</td>\n",
       "    </tr>\n",
       "  </tbody>\n",
       "</table>\n",
       "<p>5 rows × 100 columns</p>\n",
       "</div>"
      ],
      "text/plain": [
       "       siren    nic                         l1_normalisee    l2_normalisee  \\\n",
       "0  005580501  00046     SOC GLACIERES FRIGO SAINT NAZAIRE  STEF LOGISTIQUE   \n",
       "1  005780580  00030             IMMOBILIERE LOUIS THIRIET              NaN   \n",
       "2  006080014  00068  OUEST EUROPEENNE PARTICIP PLAC PROMO              NaN   \n",
       "3  006080170  00043                           COOP BREIZH              NaN   \n",
       "4  015450711  00120     CIT AEROSPACE HOLDINGS FRANCE SAS              NaN   \n",
       "\n",
       "  l3_normalisee                       l4_normalisee l5_normalisee  \\\n",
       "0           NaN            93 BOULEVARD MALESHERBES           NaN   \n",
       "1           NaN           52 RUE DE LA BIENFAISANCE           NaN   \n",
       "2           NaN             12 B RUE THEODULE RIBOT           NaN   \n",
       "3           NaN                     10 RUE DU MAINE           NaN   \n",
       "4           NaN  98 B BOULEVARD DE LA TOUR MAUBOURG           NaN   \n",
       "\n",
       "  l6_normalisee l7_normalisee                           l1_declaree  \\\n",
       "0   75008 PARIS        FRANCE     SOC GLACIERES FRIGO SAINT-NAZAIRE   \n",
       "1   75008 PARIS        FRANCE             IMMOBILIERE LOUIS THIRIET   \n",
       "2   75017 PARIS        FRANCE  OUEST EUROPEENNE PARTICIP PLAC PROMO   \n",
       "3   75014 PARIS        FRANCE                           COOP BREIZH   \n",
       "4   75007 PARIS        FRANCE   CIT AEROSPACE HOLDINGS (FRANCE) SAS   \n",
       "\n",
       "          ...          esaapen esasec1n esasec2n esasec3n esasec4n vmaj vmaj1  \\\n",
       "0         ...            5210A    5210A      NaN      NaN      NaN  NaN   NaN   \n",
       "1         ...              NaN      NaN      NaN      NaN      NaN  NaN   NaN   \n",
       "2         ...              NaN      NaN      NaN      NaN      NaN  NaN   NaN   \n",
       "3         ...              NaN      NaN      NaN      NaN      NaN  NaN   NaN   \n",
       "4         ...              NaN      NaN      NaN      NaN      NaN  NaN   NaN   \n",
       "\n",
       "  vmaj2 vmaj3              datemaj  \n",
       "0   NaN   NaN  2015-08-02T00:00:00  \n",
       "1   NaN   NaN  2002-11-13T00:00:00  \n",
       "2   NaN   NaN  2015-07-27T09:43:55  \n",
       "3   NaN   NaN  1960-01-01T00:00:00  \n",
       "4   NaN   NaN  2016-06-23T00:00:00  \n",
       "\n",
       "[5 rows x 100 columns]"
      ]
     },
     "execution_count": 1,
     "metadata": {},
     "output_type": "execute_result"
    }
   ],
   "source": [
    "import pandas as pd \n",
    "\n",
    "sirene = pd.read_csv(\"siren.csv\", sep = ';', encoding = \"ISO-8859-1\", dtype=object)"
   ]
  },
  {
   "cell_type": "code",
   "execution_count": 3,
   "metadata": {
    "collapsed": false
   },
   "outputs": [
    {
     "data": {
      "text/plain": [
       "array(['75008', '75017', '75014', '75007', '75009', '75012', '75010',\n",
       "       '75013', '75006', '75001', '75011', '75002', '75004', '75019',\n",
       "       '75018', '75016', '75003', '75116', '75015', '75020', '75005'], dtype=object)"
      ]
     },
     "execution_count": 3,
     "metadata": {},
     "output_type": "execute_result"
    }
   ],
   "source": [
    "siren = sirene[['apet700', 'libapet', 'codpos', 'l4_normalisee']]\n",
    "siren.codpos.unique()"
   ]
  },
  {
   "cell_type": "code",
   "execution_count": 4,
   "metadata": {
    "collapsed": false
   },
   "outputs": [
    {
     "data": {
      "text/plain": [
       "array(['75008', '75017', '75014', '75007', '75009', '75012', '75010',\n",
       "       '75013', '75006', '75001', '75011', '75002', '75004', '75019',\n",
       "       '75018', '75016', '75003', '75015', '75020', '75005'], dtype=object)"
      ]
     },
     "execution_count": 4,
     "metadata": {},
     "output_type": "execute_result"
    }
   ],
   "source": [
    "siren = siren.replace('75116', '75016')\n",
    "siren.codpos.unique()"
   ]
  },
  {
   "cell_type": "code",
   "execution_count": 5,
   "metadata": {
    "collapsed": false
   },
   "outputs": [],
   "source": [
    "# Commerce de détail non spécialisé (hyper, super, etc.)\n",
    "com_detail_non_spe = siren[siren['apet700'].apply(lambda x : x[0:3])== \"471\"]\n",
    "com_detail_non_spe.name = \"Commerce de détail non spécialisé (hyper, super, etc.)\"\n",
    "\n",
    "# Commerce de détail alimentaire en magasin spécialisé (poissoneries, boucheries, etc.)\n",
    "com_al_spe = siren[siren['apet700'].apply(lambda x : x[0:3] == \"472\")]\n",
    "com_al_spe.name = \"Commerce de détail alimentaire en magasin spécialisé\"\n",
    "\n",
    "    # Parmi eux, on a en particulier:\n",
    "    # Magasins de fruits et légumes : \n",
    "legume = siren[siren['apet700'].apply(lambda x : x[0:4] == \"4721\")]\n",
    "legume.name = \"Magasins de fruits et légumes\"    \n",
    "\n",
    "    # Boucheries-charcuteries :\n",
    "boucherie = siren[siren['apet700'].apply(lambda x : x[0:4] == \"4722\")]\n",
    "boucherie.name = \"Boucheries-charcuteries\"\n",
    "\n",
    "    # Poissonneries : \n",
    "poissonerie =   siren[siren['apet700'].apply(lambda x : x[0:4] == \"4723\")]\n",
    "poissonerie.name = \"Poissonneries\"\n",
    "\n",
    "    # Boulangeries, patisseries, confiseries : \n",
    "boulangerie = siren[siren['apet700'].apply(lambda x : x[0:4] == \"4724\")]\n",
    "boulangerie.name = 'Boulangeries, patisseries, confiseries'\n",
    "\n",
    "    # Commerce de détail de boissons\n",
    "boisson = siren[siren['apet700'].apply(lambda x : x[0:4] == \"4725\")]\n",
    "boisson.name = \"Commerce de boissons\"\n",
    "\n",
    "    # Tabacs\n",
    "tabac = siren[siren['apet700'].apply(lambda x : x[0:4] == \"4726\")]\n",
    "tabac.name = \"Tabacs\"\n"
   ]
  },
  {
   "cell_type": "code",
   "execution_count": 6,
   "metadata": {
    "collapsed": true
   },
   "outputs": [],
   "source": [
    "# Commerce de culture (magasins de disques, etc.)\n",
    "com_culture = siren[siren['apet700'].apply(lambda x : x[0:3] == \"476\")]\n",
    "com_culture.name = \"Commerce de culture\"\n",
    "\n",
    "# Mode (Commerces d'habillement, chaussures, maroquinerie)\n",
    "mode = siren[siren['apet700'].apply(lambda x : x[0:4] == \"4771\" or x[0:4] == \"4772\")]\n",
    "mode.name = 'Mode'\n",
    "\n",
    "# Restaurants\n",
    "resto = siren[siren['apet700'].apply(lambda x : x[0:3] == \"561\")]\n",
    "resto.name = 'Restaurants'\n",
    "\n",
    "# Traiteurs \n",
    "traiteur = siren[siren['apet700'].apply(lambda x : x[0:3] == \"562\")] \n",
    "traiteur.name = \"Traiteurs\"\n",
    "\n",
    "# Bars \n",
    "bar = siren[siren['apet700'].apply(lambda x : x[0:3] == \"563\")]\n",
    "bar.name = 'Bars'"
   ]
  },
  {
   "cell_type": "code",
   "execution_count": 7,
   "metadata": {
    "collapsed": false
   },
   "outputs": [],
   "source": [
    "# Etablissements pré-primaires (maternelle?)\n",
    "pre_prim = siren[siren['apet700'].apply(lambda x : x[0:3] == \"851\")] \n",
    "pre_prim.name = \"Etablissements pré-primaires\"\n",
    "\n",
    "#Enseignement primaire\n",
    "ecole = siren[siren['apet700'].apply(lambda x : x[0:3] == \"852\")]\n",
    "ecole.name = \"Enseignement primaire\"\n",
    "\n",
    "# Enseignement secondaire \n",
    "secondaire = siren[siren['apet700'].apply(lambda x : x[0:3] == \"853\")]\n",
    "secondaire.name = \"Enseignement secondaire\"\n",
    "\n",
    "\n",
    "# Enseignement supérieur et post-secondaire\n",
    "sup = siren[siren['apet700'].apply(lambda x : x[0:3] == \"854\")]\n",
    "sup.name = \"Enseignement supérieur et post-secondaire\""
   ]
  },
  {
   "cell_type": "code",
   "execution_count": 8,
   "metadata": {
    "collapsed": true
   },
   "outputs": [],
   "source": [
    "# Activités de santé \n",
    "sante = siren[siren['apet700'].apply(lambda x : x[0:2] == \"86\")]\n",
    "sante.name = \"Activités de santé\""
   ]
  },
  {
   "cell_type": "code",
   "execution_count": 9,
   "metadata": {
    "collapsed": true
   },
   "outputs": [],
   "source": [
    "# Bibliothèques, musées, act culturelles\n",
    "cult = siren[siren['apet700'].apply(lambda x : x[0:3] == \"910\")]\n",
    "cult.name = \"Bibliothèques, musées, act culturelles\"\n",
    "\n",
    "    # Parmi eux, nous avons : \n",
    "bibli = siren[siren['apet700'].apply(lambda x : x[0:4] == \"9101\")] \n",
    "bibli.name = \"Bibliothèques\"\n",
    "\n",
    "musee = siren[siren['apet700'].apply(lambda x : x[0:4] == \"9102\")]\n",
    "musee.name = \"Musées\"\n",
    "\n",
    "site = siren[siren['apet700'].apply(lambda x : x[0:4] == \"9103\")]\n",
    "site.name = \"Gestion sites monuments historiques & attractions tourist. simil.\"\n",
    "\n",
    "jardin = siren[siren['apet700'].apply(lambda x : x[0:4] == \"9104\")]\n",
    "jardin.name = \"Gestion des jardins botaniques et zoologiques et des réserves naturelles\""
   ]
  },
  {
   "cell_type": "code",
   "execution_count": 10,
   "metadata": {
    "collapsed": true
   },
   "outputs": [],
   "source": [
    "# Arts, spectacles\n",
    "spectacle = siren[siren['apet700'].apply(lambda x : x[0:2] == \"90\")]\n",
    "spectacle.name = \"Arts, spectacles\"\n",
    "\n",
    "# Activités sportives (gestion d'installations sportives, salles de sport, etc.)\n",
    "sport = siren[siren['apet700'].apply(lambda x : x[0:3] == \"931\")]\n",
    "sport.name = \"Bibliothèques, musées, act culturelles\"\n",
    "\n",
    "\n",
    "# Activités récréatives et de loisirs (parcs d'attraction)\n",
    "recre = siren[siren['apet700'].apply(lambda x : x[0:3] == \"932\")]\n",
    "recre.name = \"Activités récréatives et de loisirs (parcs d'attraction)\""
   ]
  },
  {
   "cell_type": "code",
   "execution_count": 11,
   "metadata": {
    "collapsed": true
   },
   "outputs": [],
   "source": [
    "# Blanchisseries\n",
    "blanchisserie = siren[siren['apet700'].apply(lambda x : x[0:4] == \"9601\")]\n",
    "blanchisserie.name = \"Blanchisseries\"\n",
    "\n",
    "# Coiffures\n",
    "coiffeur = siren[siren['apet700'].apply(lambda x : x[0:4] == \"9602\")]\n",
    "coiffeur.name = \"Coiffeurs\""
   ]
  },
  {
   "cell_type": "code",
   "execution_count": 12,
   "metadata": {
    "collapsed": true
   },
   "outputs": [],
   "source": [
    "# Services funéraires\n",
    "funeraire = siren[siren['apet700'].apply(lambda x : x[0:4] == \"9603\")]\n",
    "funeraire.name = \"Services funéraires\"\n",
    "\n",
    "# Services d'entretien corporel (sauna, hammam, instituts de massage, etc.)\n",
    "corporel = siren[siren['apet700'].apply(lambda x : x[0:4] == \"9604\")]\n",
    "corporel.name = \"Services d'entretien corporel\""
   ]
  },
  {
   "cell_type": "code",
   "execution_count": null,
   "metadata": {
    "collapsed": false
   },
   "outputs": [],
   "source": []
  },
  {
   "cell_type": "code",
   "execution_count": 13,
   "metadata": {
    "collapsed": false
   },
   "outputs": [],
   "source": [
    "activites = [com_detail_non_spe, boulangerie, boucherie, tabac, poissonerie, boisson, legume, com_culture, mode, resto, traiteur, bar, pre_prim, ecole, secondaire, sup,\\\n",
    "      sante, spectacle, bibli, site, musee, jardin, sport, recre, blanchisserie, coiffeur, funeraire, corporel]"
   ]
  },
  {
   "cell_type": "code",
   "execution_count": 14,
   "metadata": {
    "collapsed": false
   },
   "outputs": [
    {
     "data": {
      "text/plain": [
       "array(['75008', '75017', '75014', '75007', '75009', '75012', '75010',\n",
       "       '75013', '75006', '75001', '75011', '75002', '75004', '75019',\n",
       "       '75018', '75016', '75003', '75015', '75020', '75005'], dtype=object)"
      ]
     },
     "execution_count": 14,
     "metadata": {},
     "output_type": "execute_result"
    }
   ],
   "source": [
    "siren.codpos.unique()"
   ]
  },
  {
   "cell_type": "code",
   "execution_count": null,
   "metadata": {
    "collapsed": false
   },
   "outputs": [],
   "source": []
  },
  {
   "cell_type": "code",
   "execution_count": 15,
   "metadata": {
    "collapsed": false
   },
   "outputs": [],
   "source": [
    "# Lister, par activité, les fréquences par arrondissement (de la plus forte à la moins forte)\n",
    "from collections import Counter\n",
    "import operator\n",
    "def frequences(act):\n",
    "    freq_act ={}\n",
    "    for arr in act.codpos.unique() : \n",
    "        freq = dict(Counter(act.codpos))[arr]\n",
    "        freq = freq/len(act)\n",
    "        freq_act.update({arr : freq})\n",
    "    return sorted(freq_act.items(), key = operator.itemgetter(1), reverse = True)"
   ]
  },
  {
   "cell_type": "code",
   "execution_count": 16,
   "metadata": {
    "collapsed": false
   },
   "outputs": [
    {
     "data": {
      "text/plain": [
       "[('75018', 0.08870598994055784),\n",
       " ('75017', 0.07818930041152264),\n",
       " ('75015', 0.07636031092821216)]"
      ]
     },
     "execution_count": 16,
     "metadata": {},
     "output_type": "execute_result"
    }
   ],
   "source": [
    "# Exemple : pour trouver l'arrondissement qui contient le plus de salons de coiffure : \n",
    "frequences(coiffeur)[0:3]"
   ]
  },
  {
   "cell_type": "code",
   "execution_count": 29,
   "metadata": {
    "collapsed": false
   },
   "outputs": [
    {
     "name": "stdout",
     "output_type": "stream",
     "text": [
      "Commerce de détail non spécialisé (hyper, super, etc.) : ('75018', 0.10996870809119356)\n",
      "Boulangeries, patisseries, confiseries : ('75017', 0.07)\n",
      "Boucheries-charcuteries : ('75018', 0.12439613526570048)\n",
      "Tabacs : ('75015', 0.07834101382488479)\n",
      "Poissonneries : ('75018', 0.1320754716981132)\n",
      "Commerce de boissons : ('75017', 0.08982035928143713)\n",
      "Magasins de fruits et légumes : ('75018', 0.11764705882352941)\n",
      "Commerce de culture : ('75015', 0.08053265694356374)\n",
      "Mode : ('75008', 0.09018153425727113)\n",
      "Restaurants : ('75011', 0.07990477901545096)\n",
      "Traiteurs : ('75015', 0.08933601609657947)\n",
      "Bars : ('75011', 0.11517548195748888)\n",
      "Etablissements pré-primaires : ('75019', 0.11461318051575932)\n",
      "Enseignement primaire : ('75020', 0.10094637223974763)\n",
      "Enseignement secondaire : ('75018', 0.08820286659316427)\n",
      "Enseignement supérieur et post-secondaire : ('75005', 0.10204081632653061)\n",
      "Activités de santé : ('75015', 0.09901818767101239)\n",
      "Arts, spectacles : ('75018', 0.1175708378589531)\n",
      "Bibliothèques : ('75013', 0.08)\n",
      "Gestion sites monuments historiques & attractions tourist. simil. : ('75016', 0.09387755102040816)\n",
      "Musées : ('75018', 0.09523809523809523)\n",
      "Gestion des jardins botaniques et zoologiques et des réserves naturelles : ('75012', 0.25)\n",
      "Bibliothèques, musées, act culturelles : ('75015', 0.0913516609392898)\n",
      "Activités récréatives et de loisirs (parcs d'attraction) : ('75018', 0.09102605339337408)\n",
      "Blanchisseries : ('75015', 0.11358734723220705)\n",
      "Coiffeurs : ('75015', 0.09420603958965468)\n",
      "Services funéraires : ('75014', 0.1210762331838565)\n",
      "Services d'entretien corporel : ('75017', 0.09187279151943463)\n"
     ]
    }
   ],
   "source": [
    "# TOP 1 : \n",
    "for a in activites : \n",
    "    print(a.name, \":\", frequences(a)[0])"
   ]
  },
  {
   "cell_type": "code",
   "execution_count": 28,
   "metadata": {
    "collapsed": true
   },
   "outputs": [
    {
     "data": {
      "text/plain": [
       "[('75011', 0.11517548195748888),\n",
       " ('75018', 0.10034602076124567),\n",
       " ('75010', 0.0800790904597133),\n",
       " ('75009', 0.07365299060800791),\n",
       " ('75017', 0.05981216015818092),\n",
       " ('75020', 0.057834898665348494),\n",
       " ('75005', 0.04498269896193772),\n",
       " ('75015', 0.043499752842313395),\n",
       " ('75008', 0.04300543746910529),\n",
       " ('75012', 0.04201680672268908),\n",
       " ('75019', 0.04201680672268908),\n",
       " ('75004', 0.04201680672268908),\n",
       " ('75006', 0.04003954522985665),\n",
       " ('75013', 0.04003954522985665),\n",
       " ('75002', 0.04003954522985665),\n",
       " ('75001', 0.03806228373702422),\n",
       " ('75014', 0.03163618388531883),\n",
       " ('75003', 0.022738507167572912),\n",
       " ('75016', 0.022244191794364803),\n",
       " ('75007', 0.020761245674740483)]"
      ]
     },
     "execution_count": 28,
     "metadata": {},
     "output_type": "execute_result"
    }
   ],
   "source": [
    "# TOP1 : pas les 1er, 2e, 3e, 4e, 6e, 7e, 9e, 10e\n",
    "# TOP2 : +6e et 7e\n",
    "# TOP3 : +9e et 10e\n",
    "# => pb pour les arrondissements 1, 2, 3 et 4. "
   ]
  }
 ],
 "metadata": {
  "anaconda-cloud": {},
  "kernelspec": {
   "display_name": "Python [conda root]",
   "language": "python",
   "name": "conda-root-py"
  },
  "language_info": {
   "codemirror_mode": {
    "name": "ipython",
    "version": 3
   },
   "file_extension": ".py",
   "mimetype": "text/x-python",
   "name": "python",
   "nbconvert_exporter": "python",
   "pygments_lexer": "ipython3",
   "version": "3.5.2"
  }
 },
 "nbformat": 4,
 "nbformat_minor": 2
}
