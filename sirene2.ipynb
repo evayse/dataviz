{
 "cells": [
  {
   "cell_type": "markdown",
   "metadata": {},
   "source": [
    "# Statistiques depuis la base Sirene"
   ]
  },
  {
   "cell_type": "code",
   "execution_count": 1,
   "metadata": {
    "collapsed": false,
    "scrolled": true
   },
   "outputs": [],
   "source": [
    "import pandas as pd \n",
    "\n",
    "sirene = pd.read_csv(\"/home/eva/ENSAE/siren.csv\", sep = ';', encoding = \"ISO-8859-1\", dtype=object)"
   ]
  },
  {
   "cell_type": "code",
   "execution_count": 2,
   "metadata": {
    "collapsed": false
   },
   "outputs": [
    {
     "data": {
      "text/plain": [
       "array(['75008', '75017', '75014', '75007', '75009', '75012', '75010',\n",
       "       '75013', '75006', '75001', '75011', '75002', '75004', '75019',\n",
       "       '75018', '75016', '75003', '75116', '75015', '75020', '75005'], dtype=object)"
      ]
     },
     "execution_count": 2,
     "metadata": {},
     "output_type": "execute_result"
    }
   ],
   "source": [
    "siren = sirene[['apet700', 'libapet', 'codpos', 'l4_normalisee']]\n",
    "siren.codpos.unique()"
   ]
  },
  {
   "cell_type": "code",
   "execution_count": 3,
   "metadata": {
    "collapsed": false
   },
   "outputs": [
    {
     "data": {
      "text/plain": [
       "array(['75008', '75017', '75014', '75007', '75009', '75012', '75010',\n",
       "       '75013', '75006', '75001', '75011', '75002', '75004', '75019',\n",
       "       '75018', '75016', '75003', '75015', '75020', '75005'], dtype=object)"
      ]
     },
     "execution_count": 3,
     "metadata": {},
     "output_type": "execute_result"
    }
   ],
   "source": [
    "siren = siren.replace('75116', '75016')\n",
    "siren.codpos.unique()"
   ]
  },
  {
   "cell_type": "code",
   "execution_count": 4,
   "metadata": {
    "collapsed": false
   },
   "outputs": [],
   "source": [
    "# Commerce de détail non spécialisé (hyper, super, etc.)\n",
    "com_detail_non_spe = siren[siren['apet700'].apply(lambda x : x[0:3])== \"471\"]\n",
    "com_detail_non_spe.name = \"Commerce de détail non spécialisé (hyper, super, etc.)\"\n",
    "\n",
    "# Commerce de détail alimentaire en magasin spécialisé (poissoneries, boucheries, etc.)\n",
    "com_al_spe = siren[siren['apet700'].apply(lambda x : x[0:3] == \"472\")]\n",
    "com_al_spe.name = \"Commerce de détail alimentaire en magasin spécialisé\"\n",
    "\n",
    "    # Parmi eux, on a en particulier:\n",
    "    # Magasins de fruits et légumes : \n",
    "legume = siren[siren['apet700'].apply(lambda x : x[0:4] == \"4721\")]\n",
    "legume.name = \"Magasins de fruits et légumes\"    \n",
    "\n",
    "    # Boucheries-charcuteries :\n",
    "boucherie = siren[siren['apet700'].apply(lambda x : x[0:4] == \"4722\")]\n",
    "boucherie.name = \"Boucheries-charcuteries\"\n",
    "\n",
    "    # Poissonneries : \n",
    "poissonerie =   siren[siren['apet700'].apply(lambda x : x[0:4] == \"4723\")]\n",
    "poissonerie.name = \"Poissonneries\"\n",
    "\n",
    "    # Boulangeries, patisseries, confiseries : \n",
    "boulangerie = siren[siren['apet700'].apply(lambda x : x[0:4] == \"4724\")]\n",
    "boulangerie.name = 'Boulangeries, patisseries, confiseries'\n",
    "\n",
    "    # Commerce de détail de boissons\n",
    "boisson = siren[siren['apet700'].apply(lambda x : x[0:4] == \"4725\")]\n",
    "boisson.name = \"Commerce de boissons\"\n",
    "\n",
    "    # Tabacs\n",
    "tabac = siren[siren['apet700'].apply(lambda x : x[0:4] == \"4726\")]\n",
    "tabac.name = \"Tabacs\"\n"
   ]
  },
  {
   "cell_type": "code",
   "execution_count": 11,
   "metadata": {
    "collapsed": false
   },
   "outputs": [],
   "source": [
    "# Commerce de culture (magasins de disques, etc.)\n",
    "com_culture = siren[siren['apet700'].apply(lambda x : x[0:3] == \"476\")]\n",
    "com_culture.name = \"Commerce de culture\"\n",
    "\n",
    "# Mode (Commerces d'habillement, chaussures, maroquinerie)\n",
    "habillement = siren[siren['apet700'].apply(lambda x : x[0:4] == \"4771\")]\n",
    "habillement.name = 'Habillement'\n",
    "\n",
    "accessoires = siren[siren['apet700'].apply(lambda x : x[0:4] == \"4772\")]\n",
    "accessoires.name = 'Chaussures et sacs'\n",
    "\n",
    "mode = siren[siren['apet700'].apply(lambda x : x[0:4] == \"4771\" or x[0:4] == \"4772\")]\n",
    "mode.name = 'Mode (habillement + accessoires)'\n",
    "\n",
    "\n",
    "# Restaurants\n",
    "resto = siren[siren['apet700'].apply(lambda x : x[0:5] == \"5610A\")]\n",
    "resto.name = 'Restaurants traditionnels'\n",
    "\n",
    "restoRapide = siren[siren['apet700'].apply(lambda x : x[0:5] == \"5610C\")]\n",
    "restoRapide.name = 'Restauration rapide'\n",
    "\n",
    "# Traiteurs \n",
    "traiteur = siren[siren['apet700'].apply(lambda x : x[0:3] == \"562\")] \n",
    "traiteur.name = \"Traiteurs\"\n",
    "\n",
    "# Bars \n",
    "bar = siren[siren['apet700'].apply(lambda x : x[0:3] == \"563\")]\n",
    "bar.name = 'Bars'"
   ]
  },
  {
   "cell_type": "code",
   "execution_count": null,
   "metadata": {
    "collapsed": true
   },
   "outputs": [],
   "source": []
  },
  {
   "cell_type": "code",
   "execution_count": 6,
   "metadata": {
    "collapsed": false
   },
   "outputs": [],
   "source": [
    "# Etablissements pré-primaires (maternelle?)\n",
    "pre_prim = siren[siren['apet700'].apply(lambda x : x[0:3] == \"851\")] \n",
    "pre_prim.name = \"Etablissements pré-primaires\"\n",
    "\n",
    "#Enseignement primaire\n",
    "ecole = siren[siren['apet700'].apply(lambda x : x[0:3] == \"852\")]\n",
    "ecole.name = \"Enseignement primaire\"\n",
    "\n",
    "# Enseignement secondaire \n",
    "secondaire = siren[siren['apet700'].apply(lambda x : x[0:3] == \"853\")]\n",
    "secondaire.name = \"Enseignement secondaire\"\n",
    "\n",
    "\n",
    "# Enseignement supérieur et post-secondaire\n",
    "sup = siren[siren['apet700'].apply(lambda x : x[0:3] == \"854\")]\n",
    "sup.name = \"Enseignement supérieur et post-secondaire\""
   ]
  },
  {
   "cell_type": "code",
   "execution_count": 7,
   "metadata": {
    "collapsed": true
   },
   "outputs": [],
   "source": [
    "# Activités de santé \n",
    "sante = siren[siren['apet700'].apply(lambda x : x[0:2] == \"86\")]\n",
    "sante.name = \"Activités de santé\""
   ]
  },
  {
   "cell_type": "code",
   "execution_count": 8,
   "metadata": {
    "collapsed": true
   },
   "outputs": [],
   "source": [
    "# Bibliothèques, musées, act culturelles\n",
    "cult = siren[siren['apet700'].apply(lambda x : x[0:3] == \"910\")]\n",
    "cult.name = \"Bibliothèques, musées, act culturelles\"\n",
    "\n",
    "    # Parmi eux, nous avons : \n",
    "bibli = siren[siren['apet700'].apply(lambda x : x[0:4] == \"9101\")] \n",
    "bibli.name = \"Bibliothèques\"\n",
    "\n",
    "musee = siren[siren['apet700'].apply(lambda x : x[0:4] == \"9102\")]\n",
    "musee.name = \"Musées\"\n",
    "\n",
    "site = siren[siren['apet700'].apply(lambda x : x[0:4] == \"9103\")]\n",
    "site.name = \"Gestion sites monuments historiques & attractions tourist. simil.\"\n",
    "\n",
    "jardin = siren[siren['apet700'].apply(lambda x : x[0:4] == \"9104\")]\n",
    "jardin.name = \"Gestion des jardins botaniques et zoologiques et des réserves naturelles\""
   ]
  },
  {
   "cell_type": "code",
   "execution_count": 9,
   "metadata": {
    "collapsed": true
   },
   "outputs": [],
   "source": [
    "# Arts, spectacles\n",
    "spectacle = siren[siren['apet700'].apply(lambda x : x[0:2] == \"90\")]\n",
    "spectacle.name = \"Arts, spectacles\"\n",
    "\n",
    "# Activités sportives (gestion d'installations sportives, salles de sport, etc.)\n",
    "sport = siren[siren['apet700'].apply(lambda x : x[0:3] == \"931\")]\n",
    "sport.name = \"Activités sportives\"\n",
    "\n",
    "\n",
    "# Activités récréatives et de loisirs (parcs d'attraction)\n",
    "recre = siren[siren['apet700'].apply(lambda x : x[0:3] == \"932\")]\n",
    "recre.name = \"Activités récréatives et de loisirs (parcs d'attraction)\""
   ]
  },
  {
   "cell_type": "code",
   "execution_count": 10,
   "metadata": {
    "collapsed": true
   },
   "outputs": [],
   "source": [
    "# Blanchisseries\n",
    "blanchisserie = siren[siren['apet700'].apply(lambda x : x[0:4] == \"9601\")]\n",
    "blanchisserie.name = \"Blanchisseries\"\n",
    "\n",
    "# Coiffures\n",
    "coiffeur = siren[siren['apet700'].apply(lambda x : x[0:4] == \"9602\")]\n",
    "coiffeur.name = \"Coiffeurs\""
   ]
  },
  {
   "cell_type": "code",
   "execution_count": 12,
   "metadata": {
    "collapsed": true
   },
   "outputs": [],
   "source": [
    "# Services funéraires\n",
    "funeraire = siren[siren['apet700'].apply(lambda x : x[0:4] == \"9603\")]\n",
    "funeraire.name = \"Services funéraires\"\n",
    "\n",
    "# Services d'entretien corporel (sauna, hammam, instituts de massage, etc.)\n",
    "corporel = siren[siren['apet700'].apply(lambda x : x[0:4] == \"9604\")]\n",
    "corporel.name = \"Services d'entretien corporel\""
   ]
  },
  {
   "cell_type": "code",
   "execution_count": null,
   "metadata": {
    "collapsed": true
   },
   "outputs": [],
   "source": []
  },
  {
   "cell_type": "code",
   "execution_count": 13,
   "metadata": {
    "collapsed": false
   },
   "outputs": [],
   "source": [
    "activites = [com_detail_non_spe, boulangerie, boucherie, tabac, poissonerie, boisson, legume, com_culture, mode, habillement, accessoires, resto, restoRapide, traiteur, bar, pre_prim, ecole, secondaire, sup, sante, spectacle, bibli, site, musee, jardin, sport, recre, blanchisserie, coiffeur, funeraire, corporel]"
   ]
  },
  {
   "cell_type": "code",
   "execution_count": 14,
   "metadata": {
    "collapsed": false
   },
   "outputs": [
    {
     "data": {
      "text/plain": [
       "array(['75008', '75017', '75014', '75007', '75009', '75012', '75010',\n",
       "       '75013', '75006', '75001', '75011', '75002', '75004', '75019',\n",
       "       '75018', '75016', '75003', '75015', '75020', '75005'], dtype=object)"
      ]
     },
     "execution_count": 14,
     "metadata": {},
     "output_type": "execute_result"
    }
   ],
   "source": [
    "siren.codpos.unique()"
   ]
  },
  {
   "cell_type": "code",
   "execution_count": null,
   "metadata": {
    "collapsed": false
   },
   "outputs": [],
   "source": []
  },
  {
   "cell_type": "code",
   "execution_count": 15,
   "metadata": {
    "collapsed": false
   },
   "outputs": [],
   "source": [
    "# Lister, par activité, les fréquences par arrondissement (de la plus forte à la moins forte)\n",
    "from collections import Counter\n",
    "import operator\n",
    "def frequences(act):\n",
    "    freq_act ={}\n",
    "    for arr in act.codpos.unique() : \n",
    "        freq = dict(Counter(act.codpos))[arr]\n",
    "        freq = freq/len(act)\n",
    "        freq_act.update({arr : freq})\n",
    "    return sorted(freq_act.items(), key = operator.itemgetter(1), reverse = True)"
   ]
  },
  {
   "cell_type": "code",
   "execution_count": 16,
   "metadata": {
    "collapsed": false
   },
   "outputs": [
    {
     "data": {
      "text/plain": [
       "[('75015', 0.0913516609392898),\n",
       " ('75013', 0.08705612829324169),\n",
       " ('75016', 0.08218785796105384)]"
      ]
     },
     "execution_count": 16,
     "metadata": {},
     "output_type": "execute_result"
    }
   ],
   "source": [
    "# Exemple : pour trouver l'arrondissement qui contient le plus de salons de coiffure : \n",
    "frequences(sport)[0:3]"
   ]
  },
  {
   "cell_type": "code",
   "execution_count": 17,
   "metadata": {
    "collapsed": false
   },
   "outputs": [
    {
     "name": "stdout",
     "output_type": "stream",
     "text": [
      "Commerce de détail non spécialisé (hyper, super, etc.)\n",
      "Boulangeries, patisseries, confiseries\n",
      "Boucheries-charcuteries\n",
      "Tabacs\n",
      "Poissonneries\n",
      "Commerce de boissons\n",
      "Magasins de fruits et légumes\n",
      "Commerce de culture\n",
      "Mode (habillement + accessoires)\n",
      "Habillement\n",
      "Chaussures et sacs\n",
      "Restaurants traditionnels\n",
      "Restauration rapide\n",
      "Traiteurs\n",
      "Bars\n",
      "Etablissements pré-primaires\n",
      "Enseignement primaire\n",
      "Enseignement secondaire\n",
      "Enseignement supérieur et post-secondaire\n",
      "Activités de santé\n",
      "Arts, spectacles\n",
      "Bibliothèques\n",
      "Gestion sites monuments historiques & attractions tourist. simil.\n",
      "Musées\n",
      "Gestion des jardins botaniques et zoologiques et des réserves naturelles\n",
      "Activités sportives\n",
      "Activités récréatives et de loisirs (parcs d'attraction)\n",
      "Blanchisseries\n",
      "Coiffeurs\n",
      "Services funéraires\n",
      "Services d'entretien corporel\n"
     ]
    }
   ],
   "source": [
    "# TOP 1 : \n",
    "for a in activites : \n",
    "    print(a.name)\n",
    "    #print(a.name, \":\", frequences(a)[0][0])"
   ]
  },
  {
   "cell_type": "code",
   "execution_count": null,
   "metadata": {
    "collapsed": false
   },
   "outputs": [],
   "source": []
  },
  {
   "cell_type": "code",
   "execution_count": null,
   "metadata": {
    "collapsed": false
   },
   "outputs": [],
   "source": []
  },
  {
   "cell_type": "code",
   "execution_count": 18,
   "metadata": {
    "collapsed": true
   },
   "outputs": [],
   "source": [
    "# TOP1 : pas les 1er, 2e, 3e, 4e, 6e, 7e, 9e, 10e\n",
    "# TOP2 : +6e et 7e\n",
    "# TOP3 : +9e et 10e\n",
    "# => pb pour les arrondissements 1, 2, 3 et 4. "
   ]
  },
  {
   "cell_type": "code",
   "execution_count": null,
   "metadata": {
    "collapsed": true
   },
   "outputs": [],
   "source": []
  },
  {
   "cell_type": "code",
   "execution_count": 19,
   "metadata": {
    "collapsed": true
   },
   "outputs": [],
   "source": [
    "superficies = {'75001': 1.83, '75002': 0.99, '75003': 1.17, '75004': 1.6, '75005': 2.54, '75006': 2.15, '75007': 4.09,\\\n",
    "              '75008': 3.88, '75009':2.18 , '75010': 2.89, '75011': 3.67, '75012': 6.38, '75013': 7.15, '75014': 5.62, \\\n",
    "                '75015': 8.5, '75016': 7.85, '75017': 5.67, '75018': 6.01, '75019': 6.79, '75020': 5.98}"
   ]
  },
  {
   "cell_type": "code",
   "execution_count": 20,
   "metadata": {
    "collapsed": false
   },
   "outputs": [],
   "source": [
    "def activites_km2(act):\n",
    "    activites_km2={}\n",
    "    for arr in act.codpos.unique():\n",
    "        act_km2 = dict(Counter(act.codpos))[arr]\n",
    "        act_km2 = act_km2 / superficies[arr]\n",
    "        activites_km2.update({arr : act_km2})\n",
    "    return activites_km2\n",
    "    #return sorted(activites_km2.items(), key = operator.itemgetter(1), reverse = True)"
   ]
  },
  {
   "cell_type": "code",
   "execution_count": null,
   "metadata": {
    "collapsed": true
   },
   "outputs": [],
   "source": []
  },
  {
   "cell_type": "code",
   "execution_count": 23,
   "metadata": {
    "collapsed": false
   },
   "outputs": [
    {
     "data": {
      "text/html": [
       "<div>\n",
       "<table border=\"1\" class=\"dataframe\">\n",
       "  <thead>\n",
       "    <tr style=\"text-align: right;\">\n",
       "      <th></th>\n",
       "      <th>Commerce de détail non spécialisé (hyper, super, etc.)</th>\n",
       "      <th>Boulangeries, patisseries, confiseries</th>\n",
       "      <th>Boucheries-charcuteries</th>\n",
       "      <th>Tabacs</th>\n",
       "      <th>Poissonneries</th>\n",
       "      <th>Commerce de boissons</th>\n",
       "      <th>Magasins de fruits et légumes</th>\n",
       "      <th>Commerce de culture</th>\n",
       "      <th>Mode (habillement + accessoires)</th>\n",
       "      <th>Habillement</th>\n",
       "      <th>...</th>\n",
       "      <th>Bibliothèques</th>\n",
       "      <th>Gestion sites monuments historiques &amp; attractions tourist. simil.</th>\n",
       "      <th>Musées</th>\n",
       "      <th>Gestion des jardins botaniques et zoologiques et des réserves naturelles</th>\n",
       "      <th>Activités sportives</th>\n",
       "      <th>Activités récréatives et de loisirs (parcs d'attraction)</th>\n",
       "      <th>Blanchisseries</th>\n",
       "      <th>Coiffeurs</th>\n",
       "      <th>Services funéraires</th>\n",
       "      <th>Services d'entretien corporel</th>\n",
       "    </tr>\n",
       "  </thead>\n",
       "  <tbody>\n",
       "    <tr>\n",
       "      <th>75001</th>\n",
       "      <td>45.355191</td>\n",
       "      <td>9.289617</td>\n",
       "      <td>5.464481</td>\n",
       "      <td>3.278689</td>\n",
       "      <td>NaN</td>\n",
       "      <td>9.836066</td>\n",
       "      <td>0.546448</td>\n",
       "      <td>71.584699</td>\n",
       "      <td>427.322404</td>\n",
       "      <td>332.786885</td>\n",
       "      <td>...</td>\n",
       "      <td>3.825137</td>\n",
       "      <td>9.836066</td>\n",
       "      <td>4.371585</td>\n",
       "      <td>NaN</td>\n",
       "      <td>30.054645</td>\n",
       "      <td>34.972678</td>\n",
       "      <td>9.836066</td>\n",
       "      <td>90.163934</td>\n",
       "      <td>NaN</td>\n",
       "      <td>24.043716</td>\n",
       "    </tr>\n",
       "    <tr>\n",
       "      <th>75002</th>\n",
       "      <td>71.717172</td>\n",
       "      <td>19.191919</td>\n",
       "      <td>10.101010</td>\n",
       "      <td>7.070707</td>\n",
       "      <td>2.020202</td>\n",
       "      <td>24.242424</td>\n",
       "      <td>8.080808</td>\n",
       "      <td>88.888889</td>\n",
       "      <td>573.737374</td>\n",
       "      <td>514.141414</td>\n",
       "      <td>...</td>\n",
       "      <td>9.090909</td>\n",
       "      <td>10.101010</td>\n",
       "      <td>1.010101</td>\n",
       "      <td>NaN</td>\n",
       "      <td>58.585859</td>\n",
       "      <td>93.939394</td>\n",
       "      <td>21.212121</td>\n",
       "      <td>174.747475</td>\n",
       "      <td>NaN</td>\n",
       "      <td>52.525253</td>\n",
       "    </tr>\n",
       "    <tr>\n",
       "      <th>75003</th>\n",
       "      <td>72.649573</td>\n",
       "      <td>11.965812</td>\n",
       "      <td>2.564103</td>\n",
       "      <td>0.854701</td>\n",
       "      <td>2.564103</td>\n",
       "      <td>20.512821</td>\n",
       "      <td>5.982906</td>\n",
       "      <td>54.700855</td>\n",
       "      <td>481.196581</td>\n",
       "      <td>391.452991</td>\n",
       "      <td>...</td>\n",
       "      <td>3.418803</td>\n",
       "      <td>3.418803</td>\n",
       "      <td>12.820513</td>\n",
       "      <td>NaN</td>\n",
       "      <td>50.427350</td>\n",
       "      <td>81.196581</td>\n",
       "      <td>18.803419</td>\n",
       "      <td>142.735043</td>\n",
       "      <td>0.854701</td>\n",
       "      <td>41.025641</td>\n",
       "    </tr>\n",
       "    <tr>\n",
       "      <th>75004</th>\n",
       "      <td>55.625000</td>\n",
       "      <td>15.625000</td>\n",
       "      <td>6.875000</td>\n",
       "      <td>5.625000</td>\n",
       "      <td>1.250000</td>\n",
       "      <td>16.250000</td>\n",
       "      <td>3.125000</td>\n",
       "      <td>65.625000</td>\n",
       "      <td>313.750000</td>\n",
       "      <td>245.625000</td>\n",
       "      <td>...</td>\n",
       "      <td>8.125000</td>\n",
       "      <td>9.375000</td>\n",
       "      <td>7.500000</td>\n",
       "      <td>NaN</td>\n",
       "      <td>40.000000</td>\n",
       "      <td>30.625000</td>\n",
       "      <td>12.500000</td>\n",
       "      <td>70.625000</td>\n",
       "      <td>1.875000</td>\n",
       "      <td>16.250000</td>\n",
       "    </tr>\n",
       "    <tr>\n",
       "      <th>75005</th>\n",
       "      <td>50.000000</td>\n",
       "      <td>8.267717</td>\n",
       "      <td>7.480315</td>\n",
       "      <td>4.724409</td>\n",
       "      <td>2.362205</td>\n",
       "      <td>14.173228</td>\n",
       "      <td>2.755906</td>\n",
       "      <td>94.881890</td>\n",
       "      <td>61.023622</td>\n",
       "      <td>49.212598</td>\n",
       "      <td>...</td>\n",
       "      <td>6.299213</td>\n",
       "      <td>7.874016</td>\n",
       "      <td>0.393701</td>\n",
       "      <td>0.393701</td>\n",
       "      <td>42.519685</td>\n",
       "      <td>36.220472</td>\n",
       "      <td>11.811024</td>\n",
       "      <td>58.267717</td>\n",
       "      <td>2.362205</td>\n",
       "      <td>16.535433</td>\n",
       "    </tr>\n",
       "  </tbody>\n",
       "</table>\n",
       "<p>5 rows × 31 columns</p>\n",
       "</div>"
      ],
      "text/plain": [
       "       Commerce de détail non spécialisé (hyper, super, etc.)  \\\n",
       "75001                                          45.355191        \n",
       "75002                                          71.717172        \n",
       "75003                                          72.649573        \n",
       "75004                                          55.625000        \n",
       "75005                                          50.000000        \n",
       "\n",
       "       Boulangeries, patisseries, confiseries  Boucheries-charcuteries  \\\n",
       "75001                                9.289617                 5.464481   \n",
       "75002                               19.191919                10.101010   \n",
       "75003                               11.965812                 2.564103   \n",
       "75004                               15.625000                 6.875000   \n",
       "75005                                8.267717                 7.480315   \n",
       "\n",
       "         Tabacs  Poissonneries  Commerce de boissons  \\\n",
       "75001  3.278689            NaN              9.836066   \n",
       "75002  7.070707       2.020202             24.242424   \n",
       "75003  0.854701       2.564103             20.512821   \n",
       "75004  5.625000       1.250000             16.250000   \n",
       "75005  4.724409       2.362205             14.173228   \n",
       "\n",
       "       Magasins de fruits et légumes  Commerce de culture  \\\n",
       "75001                       0.546448            71.584699   \n",
       "75002                       8.080808            88.888889   \n",
       "75003                       5.982906            54.700855   \n",
       "75004                       3.125000            65.625000   \n",
       "75005                       2.755906            94.881890   \n",
       "\n",
       "       Mode (habillement + accessoires)  Habillement  \\\n",
       "75001                        427.322404   332.786885   \n",
       "75002                        573.737374   514.141414   \n",
       "75003                        481.196581   391.452991   \n",
       "75004                        313.750000   245.625000   \n",
       "75005                         61.023622    49.212598   \n",
       "\n",
       "                   ...                Bibliothèques  \\\n",
       "75001              ...                     3.825137   \n",
       "75002              ...                     9.090909   \n",
       "75003              ...                     3.418803   \n",
       "75004              ...                     8.125000   \n",
       "75005              ...                     6.299213   \n",
       "\n",
       "       Gestion sites monuments historiques & attractions tourist. simil.  \\\n",
       "75001                                           9.836066                   \n",
       "75002                                          10.101010                   \n",
       "75003                                           3.418803                   \n",
       "75004                                           9.375000                   \n",
       "75005                                           7.874016                   \n",
       "\n",
       "          Musées  \\\n",
       "75001   4.371585   \n",
       "75002   1.010101   \n",
       "75003  12.820513   \n",
       "75004   7.500000   \n",
       "75005   0.393701   \n",
       "\n",
       "       Gestion des jardins botaniques et zoologiques et des réserves naturelles  \\\n",
       "75001                                                NaN                          \n",
       "75002                                                NaN                          \n",
       "75003                                                NaN                          \n",
       "75004                                                NaN                          \n",
       "75005                                           0.393701                          \n",
       "\n",
       "       Activités sportives  \\\n",
       "75001            30.054645   \n",
       "75002            58.585859   \n",
       "75003            50.427350   \n",
       "75004            40.000000   \n",
       "75005            42.519685   \n",
       "\n",
       "       Activités récréatives et de loisirs (parcs d'attraction)  \\\n",
       "75001                                          34.972678          \n",
       "75002                                          93.939394          \n",
       "75003                                          81.196581          \n",
       "75004                                          30.625000          \n",
       "75005                                          36.220472          \n",
       "\n",
       "       Blanchisseries   Coiffeurs  Services funéraires  \\\n",
       "75001        9.836066   90.163934                  NaN   \n",
       "75002       21.212121  174.747475                  NaN   \n",
       "75003       18.803419  142.735043             0.854701   \n",
       "75004       12.500000   70.625000             1.875000   \n",
       "75005       11.811024   58.267717             2.362205   \n",
       "\n",
       "       Services d'entretien corporel  \n",
       "75001                      24.043716  \n",
       "75002                      52.525253  \n",
       "75003                      41.025641  \n",
       "75004                      16.250000  \n",
       "75005                      16.535433  \n",
       "\n",
       "[5 rows x 31 columns]"
      ]
     },
     "execution_count": 23,
     "metadata": {},
     "output_type": "execute_result"
    }
   ],
   "source": [
    "list_ = []\n",
    "df = pd.DataFrame()\n",
    "for a in activites : \n",
    "    act = pd.Series(activites_km2(a))\n",
    "    df[a.name] = act\n",
    "\n",
    "df.head()"
   ]
  },
  {
   "cell_type": "code",
   "execution_count": 25,
   "metadata": {
    "collapsed": false
   },
   "outputs": [],
   "source": [
    "df.to_csv('sirene_surface.csv')"
   ]
  },
  {
   "cell_type": "code",
   "execution_count": null,
   "metadata": {
    "collapsed": false
   },
   "outputs": [],
   "source": []
  }
 ],
 "metadata": {
  "anaconda-cloud": {},
  "kernelspec": {
   "display_name": "Python [conda root]",
   "language": "python",
   "name": "conda-root-py"
  },
  "language_info": {
   "codemirror_mode": {
    "name": "ipython",
    "version": 3
   },
   "file_extension": ".py",
   "mimetype": "text/x-python",
   "name": "python",
   "nbconvert_exporter": "python",
   "pygments_lexer": "ipython3",
   "version": "3.5.2"
  }
 },
 "nbformat": 4,
 "nbformat_minor": 2
}
